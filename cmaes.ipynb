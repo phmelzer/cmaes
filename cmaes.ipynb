{
 "cells": [
  {
   "cell_type": "code",
   "execution_count": null,
   "id": "d14f3e86",
   "metadata": {},
   "outputs": [],
   "source": [
    "!pip install cmaes\n",
    "!pip install matplotlib"
   ]
  },
  {
   "cell_type": "code",
   "execution_count": 1,
   "id": "993608b2",
   "metadata": {},
   "outputs": [],
   "source": [
    "from cmaes import CMA\n",
    "import numpy as np\n",
    "import matplotlib.pyplot as plt"
   ]
  },
  {
   "cell_type": "code",
   "execution_count": 33,
   "id": "7f129584",
   "metadata": {},
   "outputs": [
    {
     "name": "stdout",
     "output_type": "stream",
     "text": [
      "The avg_score of generation 0 is: 0.4515381638771616\n",
      "The avg_score of generation 1 is: 0.4290209522377588\n",
      "The avg_score of generation 2 is: 0.4076173132502185\n",
      "The avg_score of generation 3 is: 0.3211309978631666\n",
      "The avg_score of generation 4 is: 0.2199624777777109\n",
      "The avg_score of generation 5 is: 0.13970901923021878\n",
      "The avg_score of generation 6 is: 0.1371129567736806\n",
      "The avg_score of generation 7 is: 0.09917628807634023\n",
      "The avg_score of generation 8 is: 0.06885327561678327\n",
      "The avg_score of generation 9 is: 0.07722454048138395\n",
      "The avg_score of generation 10 is: 0.09122533022707487\n",
      "The avg_score of generation 11 is: 0.05672011723190898\n",
      "The avg_score of generation 12 is: 0.04551131331372926\n",
      "The avg_score of generation 13 is: 0.03904117794259597\n",
      "The avg_score of generation 14 is: 0.06673382490145209\n",
      "The avg_score of generation 15 is: 0.02208663743447917\n"
     ]
    },
    {
     "data": {
      "image/png": "[encoded data removed]",
      "text/plain": [
       "<Figure size 432x288 with 16 Axes>"
      ]
     },
     "metadata": {
      "needs_background": "light"
     },
     "output_type": "display_data"
    }
   ],
   "source": [
    "target = np.array((0.5, 0.5))\n",
    "\n",
    "def evaluate(point):\n",
    "    return np.sqrt(((point-target)**2).sum())\n",
    "\n",
    "# define start values of mean, standard deviation and bounds\n",
    "optimizer = CMA(mean=np.array([0.5, 0.5]), bounds=np.array([[0,1], [0,1]]), sigma=0.5, n_max_resampling=1)\n",
    "# set number of generations (iterations)\n",
    "generations = 16\n",
    "\n",
    "# plots\n",
    "sqrt = int(np.sqrt(generations))\n",
    "fix, axs = plt.subplots(sqrt, sqrt, num=\"CMA-ES\", sharex=True, sharey=True)\n",
    "points = np.ndarray((generations, optimizer.population_size, 2))\n",
    "\n",
    "# algorithm\n",
    "for g in range(generations):\n",
    "    solutions = []\n",
    "    avg_score = 0\n",
    "    for i in range(optimizer.population_size):\n",
    "        point = optimizer.ask()\n",
    "        points[g,i] = point\n",
    "        # evaluate point with respect to the target\n",
    "        score = evaluate(point)\n",
    "        avg_score += score\n",
    "        solutions.append((point, score))\n",
    "    print(\"The avg_score of generation {} is: {}\".format(g, avg_score / optimizer.population_size))        \n",
    "    optimizer.tell(solutions)\n",
    "    \n",
    "for i in range(generations):\n",
    "    ax = axs[i//sqrt,i%sqrt]\n",
    "    ax.scatter(*zip(*points[i]),c=\"b\")\n",
    "    ax.scatter(*target,c=\"r\")\n",
    "    ax.set_xlim([0,1])\n",
    "    ax.set_ylim([0,1])"
   ]
  },
  {
   "cell_type": "code",
   "execution_count": null,
   "id": "3eb02c7d",
   "metadata": {},
   "outputs": [],
   "source": []
  }
 ],
 "metadata": {
  "kernelspec": {
   "display_name": "Python 3 (ipykernel)",
   "language": "python",
   "name": "python3"
  },
  "language_info": {
   "codemirror_mode": {
    "name": "ipython",
    "version": 3
   },
   "file_extension": ".py",
   "mimetype": "text/x-python",
   "name": "python",
   "nbconvert_exporter": "python",
   "pygments_lexer": "ipython3",
   "version": "3.9.12"
  }
 },
 "nbformat": 4,
 "nbformat_minor": 5
}
